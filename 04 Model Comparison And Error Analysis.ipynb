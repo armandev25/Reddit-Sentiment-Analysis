{
 "cells": [
  {
   "cell_type": "code",
   "execution_count": 1,
   "id": "1c14db34",
   "metadata": {},
   "outputs": [
    {
     "name": "stderr",
     "output_type": "stream",
     "text": [
      "C:\\Users\\arman\\anaconda3\\Lib\\site-packages\\pandas\\core\\arrays\\masked.py:61: UserWarning: Pandas requires version '1.3.6' or newer of 'bottleneck' (version '1.3.5' currently installed).\n",
      "  from pandas.core import (\n"
     ]
    }
   ],
   "source": [
    "import pandas as pd\n",
    "from sklearn.metrics import accuracy_score, precision_score, recall_score, f1_score, confusion_matrix\n",
    "import matplotlib.pyplot as plt"
   ]
  },
  {
   "cell_type": "code",
   "execution_count": 3,
   "id": "a202706b",
   "metadata": {},
   "outputs": [],
   "source": [
    "vader_df = pd.read_csv('vader_predictions.csv')\n",
    "lr_df = pd.read_csv('lr_predictions.csv')\n",
    "\n",
    "def compute_metrics(y_true, y_pred):\n",
    "    return {\n",
    "        'Accuracy': accuracy_score(y_true, y_pred),\n",
    "        'Precision': precision_score(y_true, y_pred, average='weighted'),\n",
    "        'Recall': recall_score(y_true, y_pred, average='weighted'),\n",
    "        'F1 Score': f1_score(y_true, y_pred, average='weighted')\n",
    "    }\n",
    "\n",
    "vader_metrics = compute_metrics(vader_df['sentiment_label'], vader_df['vader_pred'])\n",
    "lr_metrics = compute_metrics(lr_df['sentiment_label'], lr_df['lr_pred'])"
   ]
  },
  {
   "cell_type": "code",
   "execution_count": 4,
   "id": "7c2c2133",
   "metadata": {},
   "outputs": [
    {
     "name": "stdout",
     "output_type": "stream",
     "text": [
      "                     Accuracy  Precision    Recall  F1 Score\n",
      "VADER                0.644284   0.662202  0.644284  0.648424\n",
      "Logistic Regression  0.837500   0.838995  0.837500  0.832789\n"
     ]
    },
    {
     "data": {
      "image/png": "[encoded data removed]",
      "text/plain": [
       "<Figure size 800x500 with 1 Axes>"
      ]
     },
     "metadata": {},
     "output_type": "display_data"
    }
   ],
   "source": [
    "metrics_df = pd.DataFrame([vader_metrics, lr_metrics], index=['VADER', 'Logistic Regression'])\n",
    "print(metrics_df)\n",
    "\n",
    "metrics_df[['Accuracy', 'F1 Score']].plot(kind='bar', figsize=(8,5))\n",
    "plt.title('Model Comparison: Accuracy and F1 Score')\n",
    "plt.ylabel('Score')\n",
    "plt.ylim(0, 1)\n",
    "plt.grid(axis='y')\n",
    "plt.show()"
   ]
  },
  {
   "cell_type": "code",
   "execution_count": 6,
   "id": "a07dbfb0",
   "metadata": {},
   "outputs": [],
   "source": [
    "# --- Error Analysis for Logistic Regression ---\n",
    "\n",
    "fp = lr_df[(lr_df['sentiment_label'] != lr_df['lr_pred']) & (lr_df['lr_pred'] == 'positive')]\n",
    "fn = lr_df[(lr_df['sentiment_label'] != lr_df['lr_pred']) & (lr_df['lr_pred'] == 'negative')]"
   ]
  },
  {
   "cell_type": "code",
   "execution_count": 7,
   "id": "6eca3f33",
   "metadata": {},
   "outputs": [
    {
     "name": "stdout",
     "output_type": "stream",
     "text": [
      "\n",
      "False Positives (Predicted positive but actually negative):\n",
      "                                        processed_text sentiment_label  \\\n",
      "16   petrol diesel gotten exorbitant unable contain...        negative   \n",
      "22   rupee best worst short timeframes irrelevant i...        negative   \n",
      "53   great read thank many sikh west met turn blind...        negative   \n",
      "83   bjp darling pre reporting upa scam question mo...         neutral   \n",
      "124  guy know choose villain right guy promoted mas...        negative   \n",
      "\n",
      "      lr_pred  \n",
      "16   positive  \n",
      "22   positive  \n",
      "53   positive  \n",
      "83   positive  \n",
      "124  positive  \n"
     ]
    }
   ],
   "source": [
    "print(\"\\nFalse Positives (Predicted positive but actually negative):\")\n",
    "print(fp[['processed_text', 'sentiment_label', 'lr_pred']].head(5))"
   ]
  },
  {
   "cell_type": "code",
   "execution_count": 8,
   "id": "577aa509",
   "metadata": {},
   "outputs": [
    {
     "name": "stdout",
     "output_type": "stream",
     "text": [
      "\n",
      "False Negatives (Predicted negative but actually positive):\n",
      "                                       processed_text sentiment_label  \\\n",
      "20  trying get people watch tape always get downvo...        positive   \n",
      "36  noticed news channel political agenda channel ...        positive   \n",
      "57  hell goras travel show channel suddenly headin...         neutral   \n",
      "82                              sorry deity delicious        positive   \n",
      "84  divya extreme weather condition already upon c...        positive   \n",
      "\n",
      "     lr_pred  \n",
      "20  negative  \n",
      "36  negative  \n",
      "57  negative  \n",
      "82  negative  \n",
      "84  negative  \n"
     ]
    }
   ],
   "source": [
    "print(\"\\nFalse Negatives (Predicted negative but actually positive):\")\n",
    "print(fn[['processed_text', 'sentiment_label', 'lr_pred']].head(5))"
   ]
  },
  {
   "cell_type": "code",
   "execution_count": null,
   "id": "76217db3",
   "metadata": {},
   "outputs": [],
   "source": []
  }
 ],
 "metadata": {
  "kernelspec": {
   "display_name": "Python 3 (ipykernel)",
   "language": "python",
   "name": "python3"
  },
  "language_info": {
   "codemirror_mode": {
    "name": "ipython",
    "version": 3
   },
   "file_extension": ".py",
   "mimetype": "text/x-python",
   "name": "python",
   "nbconvert_exporter": "python",
   "pygments_lexer": "ipython3",
   "version": "3.11.5"
  }
 },
 "nbformat": 4,
 "nbformat_minor": 5
}
