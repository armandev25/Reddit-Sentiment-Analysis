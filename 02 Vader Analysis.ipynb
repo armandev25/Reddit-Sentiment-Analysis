{
 "cells": [
  {
   "cell_type": "code",
   "execution_count": 1,
   "id": "df661431",
   "metadata": {},
   "outputs": [
    {
     "name": "stderr",
     "output_type": "stream",
     "text": [
      "C:\\Users\\arman\\anaconda3\\Lib\\site-packages\\pandas\\core\\arrays\\masked.py:61: UserWarning: Pandas requires version '1.3.6' or newer of 'bottleneck' (version '1.3.5' currently installed).\n",
      "  from pandas.core import (\n"
     ]
    }
   ],
   "source": [
    "import pandas as pd\n",
    "import matplotlib.pyplot as plt\n",
    "import seaborn as sns\n",
    "from nltk.sentiment.vader import SentimentIntensityAnalyzer\n",
    "import nltk"
   ]
  },
  {
   "cell_type": "code",
   "execution_count": 3,
   "id": "33a2416a",
   "metadata": {},
   "outputs": [
    {
     "name": "stdout",
     "output_type": "stream",
     "text": [
      "                                       clean_comment  category  \\\n",
      "0  family mormon have never tried explain them th...         1   \n",
      "1  buddhism has very much lot compatible with chr...         1   \n",
      "2  seriously don say thing first all they won get...        -1   \n",
      "3  what you have learned yours and only yours wha...         0   \n",
      "4  for your own benefit you may want read living ...         1   \n",
      "\n",
      "  sentiment_label                                     processed_text  \n",
      "0        positive  family mormon never tried explain still stare ...  \n",
      "1        positive  buddhism much lot compatible christianity espe...  \n",
      "2        negative  seriously say thing first get complex explain ...  \n",
      "3         neutral  learned want teach different focus goal wrappi...  \n",
      "4        positive  benefit may want read living buddha living chr...  \n"
     ]
    }
   ],
   "source": [
    "df = pd.read_csv(\"cleaned_dataset.csv\")\n",
    "print(df.head())"
   ]
  },
  {
   "cell_type": "code",
   "execution_count": 6,
   "id": "4300de3c",
   "metadata": {},
   "outputs": [
    {
     "name": "stderr",
     "output_type": "stream",
     "text": [
      "[nltk_data] Downloading package vader_lexicon to\n",
      "[nltk_data]     C:\\Users\\arman\\AppData\\Roaming\\nltk_data...\n",
      "[nltk_data]   Package vader_lexicon is already up-to-date!\n"
     ]
    }
   ],
   "source": [
    "nltk.download('vader_lexicon')\n",
    "df = pd.read_csv(\"cleaned_dataset.csv\")\n",
    "\n",
    "df['processed_text'] = df['processed_text'].fillna(\"\").astype(str)"
   ]
  },
  {
   "cell_type": "code",
   "execution_count": 7,
   "id": "100fc5e4",
   "metadata": {},
   "outputs": [
    {
     "data": {
      "text/html": [
       "<div>\n",
       "<style scoped>\n",
       "    .dataframe tbody tr th:only-of-type {\n",
       "        vertical-align: middle;\n",
       "    }\n",
       "\n",
       "    .dataframe tbody tr th {\n",
       "        vertical-align: top;\n",
       "    }\n",
       "\n",
       "    .dataframe thead th {\n",
       "        text-align: right;\n",
       "    }\n",
       "</style>\n",
       "<table border=\"1\" class=\"dataframe\">\n",
       "  <thead>\n",
       "    <tr style=\"text-align: right;\">\n",
       "      <th></th>\n",
       "      <th>clean_comment</th>\n",
       "      <th>category</th>\n",
       "      <th>sentiment_label</th>\n",
       "      <th>processed_text</th>\n",
       "      <th>neg</th>\n",
       "      <th>neu</th>\n",
       "      <th>pos</th>\n",
       "      <th>compound</th>\n",
       "    </tr>\n",
       "  </thead>\n",
       "  <tbody>\n",
       "    <tr>\n",
       "      <th>0</th>\n",
       "      <td>family mormon have never tried explain them th...</td>\n",
       "      <td>1</td>\n",
       "      <td>positive</td>\n",
       "      <td>family mormon never tried explain still stare ...</td>\n",
       "      <td>0.089</td>\n",
       "      <td>0.459</td>\n",
       "      <td>0.452</td>\n",
       "      <td>0.9349</td>\n",
       "    </tr>\n",
       "    <tr>\n",
       "      <th>1</th>\n",
       "      <td>buddhism has very much lot compatible with chr...</td>\n",
       "      <td>1</td>\n",
       "      <td>positive</td>\n",
       "      <td>buddhism much lot compatible christianity espe...</td>\n",
       "      <td>0.110</td>\n",
       "      <td>0.586</td>\n",
       "      <td>0.304</td>\n",
       "      <td>0.9829</td>\n",
       "    </tr>\n",
       "    <tr>\n",
       "      <th>2</th>\n",
       "      <td>seriously don say thing first all they won get...</td>\n",
       "      <td>-1</td>\n",
       "      <td>negative</td>\n",
       "      <td>seriously say thing first get complex explain ...</td>\n",
       "      <td>0.064</td>\n",
       "      <td>0.753</td>\n",
       "      <td>0.183</td>\n",
       "      <td>0.7430</td>\n",
       "    </tr>\n",
       "    <tr>\n",
       "      <th>3</th>\n",
       "      <td>what you have learned yours and only yours wha...</td>\n",
       "      <td>0</td>\n",
       "      <td>neutral</td>\n",
       "      <td>learned want teach different focus goal wrappi...</td>\n",
       "      <td>0.000</td>\n",
       "      <td>0.909</td>\n",
       "      <td>0.091</td>\n",
       "      <td>0.0772</td>\n",
       "    </tr>\n",
       "    <tr>\n",
       "      <th>4</th>\n",
       "      <td>for your own benefit you may want read living ...</td>\n",
       "      <td>1</td>\n",
       "      <td>positive</td>\n",
       "      <td>benefit may want read living buddha living chr...</td>\n",
       "      <td>0.129</td>\n",
       "      <td>0.558</td>\n",
       "      <td>0.313</td>\n",
       "      <td>0.9349</td>\n",
       "    </tr>\n",
       "  </tbody>\n",
       "</table>\n",
       "</div>"
      ],
      "text/plain": [
       "                                       clean_comment  category  \\\n",
       "0  family mormon have never tried explain them th...         1   \n",
       "1  buddhism has very much lot compatible with chr...         1   \n",
       "2  seriously don say thing first all they won get...        -1   \n",
       "3  what you have learned yours and only yours wha...         0   \n",
       "4  for your own benefit you may want read living ...         1   \n",
       "\n",
       "  sentiment_label                                     processed_text    neg  \\\n",
       "0        positive  family mormon never tried explain still stare ...  0.089   \n",
       "1        positive  buddhism much lot compatible christianity espe...  0.110   \n",
       "2        negative  seriously say thing first get complex explain ...  0.064   \n",
       "3         neutral  learned want teach different focus goal wrappi...  0.000   \n",
       "4        positive  benefit may want read living buddha living chr...  0.129   \n",
       "\n",
       "     neu    pos  compound  \n",
       "0  0.459  0.452    0.9349  \n",
       "1  0.586  0.304    0.9829  \n",
       "2  0.753  0.183    0.7430  \n",
       "3  0.909  0.091    0.0772  \n",
       "4  0.558  0.313    0.9349  "
      ]
     },
     "execution_count": 7,
     "metadata": {},
     "output_type": "execute_result"
    }
   ],
   "source": [
    "sia = SentimentIntensityAnalyzer()\n",
    "\n",
    "df['scores'] = df['processed_text'].apply(lambda x: sia.polarity_scores(x))\n",
    "df = pd.concat([df.drop(['scores'], axis=1), df['scores'].apply(pd.Series)], axis=1)\n",
    "\n",
    "df.head()"
   ]
  },
  {
   "cell_type": "code",
   "execution_count": 16,
   "id": "44677226",
   "metadata": {},
   "outputs": [],
   "source": [
    "def get_vader_label(compound_score):\n",
    "    if compound_score >= 0.05:\n",
    "        return 'positive'\n",
    "    elif compound_score <= -0.05:\n",
    "        return 'negative'\n",
    "    else:\n",
    "        return 'neutral'\n",
    "\n",
    "df['vader_pred'] = df['compound'].apply(get_vader_label)"
   ]
  },
  {
   "cell_type": "code",
   "execution_count": 12,
   "id": "a7699697",
   "metadata": {},
   "outputs": [
    {
     "name": "stdout",
     "output_type": "stream",
     "text": [
      "                                       clean_comment  category  \\\n",
      "0  family mormon have never tried explain them th...         1   \n",
      "1  buddhism has very much lot compatible with chr...         1   \n",
      "2  seriously don say thing first all they won get...        -1   \n",
      "3  what you have learned yours and only yours wha...         0   \n",
      "4  for your own benefit you may want read living ...         1   \n",
      "\n",
      "  sentiment_label                                     processed_text    neg  \\\n",
      "0        positive  family mormon never tried explain still stare ...  0.089   \n",
      "1        positive  buddhism much lot compatible christianity espe...  0.110   \n",
      "2        negative  seriously say thing first get complex explain ...  0.064   \n",
      "3         neutral  learned want teach different focus goal wrappi...  0.000   \n",
      "4        positive  benefit may want read living buddha living chr...  0.129   \n",
      "\n",
      "     neu    pos  compound vader_label vader_sentiment  \n",
      "0  0.459  0.452    0.9349    positive        positive  \n",
      "1  0.586  0.304    0.9829    positive        positive  \n",
      "2  0.753  0.183    0.7430    positive        positive  \n",
      "3  0.909  0.091    0.0772    positive        positive  \n",
      "4  0.558  0.313    0.9349    positive        positive  \n"
     ]
    }
   ],
   "source": [
    "df.to_csv(\"vader_results.csv\", index=False)\n",
    "print(df.head())"
   ]
  },
  {
   "cell_type": "code",
   "execution_count": 13,
   "id": "eaf13caa",
   "metadata": {},
   "outputs": [
    {
     "name": "stdout",
     "output_type": "stream",
     "text": [
      "Accuracy: 0.6443\n",
      "Precision: 0.6622\n",
      "Recall: 0.6443\n",
      "F1-score: 0.6484\n",
      "\n",
      "Classification Report:\n",
      "              precision    recall  f1-score   support\n",
      "\n",
      "    negative       0.48      0.64      0.55      8250\n",
      "     neutral       0.73      0.60      0.66     12778\n",
      "    positive       0.70      0.68      0.69     15771\n",
      "\n",
      "    accuracy                           0.64     36799\n",
      "   macro avg       0.64      0.64      0.63     36799\n",
      "weighted avg       0.66      0.64      0.65     36799\n",
      "\n"
     ]
    }
   ],
   "source": [
    "from sklearn.metrics import accuracy_score, precision_score, recall_score, f1_score, classification_report\n",
    "\n",
    "y_true = df['sentiment_label']\n",
    "y_pred = df['vader_sentiment']\n",
    "\n",
    "accuracy = accuracy_score(y_true, y_pred)\n",
    "precision = precision_score(y_true, y_pred, average='weighted')\n",
    "recall = recall_score(y_true, y_pred, average='weighted')\n",
    "f1 = f1_score(y_true, y_pred, average='weighted')\n",
    "\n",
    "print(f\"Accuracy: {accuracy:.4f}\")\n",
    "print(f\"Precision: {precision:.4f}\")\n",
    "print(f\"Recall: {recall:.4f}\")\n",
    "print(f\"F1-score: {f1:.4f}\")\n",
    "\n",
    "print(\"\\nClassification Report:\")\n",
    "print(classification_report(y_true, y_pred))"
   ]
  },
  {
   "cell_type": "code",
   "execution_count": 17,
   "id": "de17fdc5",
   "metadata": {},
   "outputs": [
    {
     "name": "stdout",
     "output_type": "stream",
     "text": [
      "VADER predictions saved to vader_predictions.csv\n"
     ]
    }
   ],
   "source": [
    "df['vader_pred'] = df['compound'].apply(get_vader_label)\n",
    "\n",
    "df_vader_results = df[['processed_text', 'sentiment_label', 'compound', 'vader_pred']]\n",
    "\n",
    "df_vader_results.to_csv('vader_predictions.csv', index=False)\n",
    "\n",
    "print(\"VADER predictions saved to vader_predictions.csv\")"
   ]
  },
  {
   "cell_type": "code",
   "execution_count": null,
   "id": "ec99e6d2",
   "metadata": {},
   "outputs": [],
   "source": []
  }
 ],
 "metadata": {
  "kernelspec": {
   "display_name": "Python 3 (ipykernel)",
   "language": "python",
   "name": "python3"
  },
  "language_info": {
   "codemirror_mode": {
    "name": "ipython",
    "version": 3
   },
   "file_extension": ".py",
   "mimetype": "text/x-python",
   "name": "python",
   "nbconvert_exporter": "python",
   "pygments_lexer": "ipython3",
   "version": "3.11.5"
  }
 },
 "nbformat": 4,
 "nbformat_minor": 5
}
